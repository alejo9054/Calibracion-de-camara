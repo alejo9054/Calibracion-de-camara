{
 "cells": [
  {
   "cell_type": "code",
   "execution_count": 1,
   "id": "personalized-miracle",
   "metadata": {},
   "outputs": [],
   "source": [
    "\n",
    "import numpy as np\n",
    "import cv2 as cv\n",
    "import glob\n"
   ]
  },
  {
   "cell_type": "code",
   "execution_count": 2,
   "id": "bigger-stations",
   "metadata": {},
   "outputs": [],
   "source": [
    "# termination criteria\n",
    "criteria = (cv.TERM_CRITERIA_EPS + cv.TERM_CRITERIA_MAX_ITER, 30, 0.001)\n",
    "# prepare object points, like (0,0,0), (1,0,0), (2,0,0) ....,(6,5,0)\n",
    "objp = np.zeros((6*7,3), np.float32)\n",
    "objp[:,:2] = np.mgrid[0:7,0:6].T.reshape(-1,2)\n",
    "# Arrays to store object points and image points from all the images.\n",
    "objpoints = [] # 3d point in real world space\n",
    "imgpoints = [] # 2d points in image plane.\n",
    "images = glob.glob('.\\images\\*.jpg')\n",
    "for fname in images:\n",
    "    img = cv.imread(fname)\n",
    "    gray = cv.cvtColor(img, cv.COLOR_BGR2GRAY)\n",
    "    # Find the chess board corners\n",
    "    ret, corners = cv.findChessboardCorners(gray, (7,6), None)\n",
    "    # If found, add object points, image points (after refining them)\n",
    "    if ret == True:\n",
    "        objpoints.append(objp)\n",
    "        corners2 = cv.cornerSubPix(gray,corners, (11,11), (-1,-1), criteria)\n",
    "        imgpoints.append(corners)\n",
    "        # Draw and display the corners\n",
    "        cv.drawChessboardCorners(img, (7,6), corners2, ret)\n",
    "        cv.imshow('img', img)\n",
    "        cv.waitKey(1000)\n",
    "        \n",
    "cv.destroyAllWindows()"
   ]
  },
  {
   "cell_type": "code",
   "execution_count": 3,
   "id": "egyptian-franklin",
   "metadata": {},
   "outputs": [
    {
     "name": "stdout",
     "output_type": "stream",
     "text": [
      "0.155369069100788\n",
      "[[534.07088367   0.         341.53407538]\n",
      " [  0.         534.11914599 232.94565269]\n",
      " [  0.           0.           1.        ]]\n",
      "[[-2.92971637e-01  1.07706963e-01  1.31038377e-03 -3.11018871e-05\n",
      "   4.34798099e-02]]\n",
      "[array([[-0.43239599],\n",
      "       [ 0.25603401],\n",
      "       [-3.08832021]]), array([[ 0.41531697],\n",
      "       [ 0.65664497],\n",
      "       [-1.3373494 ]]), array([[-0.2645143 ],\n",
      "       [-0.39360849],\n",
      "       [-2.74787379]]), array([[-0.37843358],\n",
      "       [-0.18064237],\n",
      "       [-3.11615996]]), array([[-0.45993978],\n",
      "       [-0.3142018 ],\n",
      "       [-1.76122223]]), array([[-0.29979221],\n",
      "       [ 0.39216377],\n",
      "       [-1.4348239 ]]), array([[-0.32034625],\n",
      "       [ 0.1597993 ],\n",
      "       [-1.24149595]]), array([[-0.45883216],\n",
      "       [-0.08848877],\n",
      "       [-1.33510786]]), array([[-0.35367631],\n",
      "       [-0.24363035],\n",
      "       [-1.56874295]]), array([[ 0.30697385],\n",
      "       [ 0.5038552 ],\n",
      "       [-1.82824733]]), array([[-0.17288944],\n",
      "       [-0.46764681],\n",
      "       [ 1.34745198]])]\n",
      "[array([[ 3.79739147],\n",
      "       [ 0.89895017],\n",
      "       [14.8593055 ]]), array([[-2.12419184],\n",
      "       [ 1.84550818],\n",
      "       [12.81229188]]), array([[3.03685642],\n",
      "       [2.74656587],\n",
      "       [9.90005138]]), array([[ 2.82321756],\n",
      "       [ 2.22374307],\n",
      "       [10.95762951]]), array([[-1.13991522],\n",
      "       [ 2.67424464],\n",
      "       [ 9.56289277]]), array([[ 1.60364764],\n",
      "       [ 3.81296375],\n",
      "       [16.12054474]]), array([[-5.94286694],\n",
      "       [ 2.39629426],\n",
      "       [16.77859026]]), array([[-3.27916485],\n",
      "       [ 2.15811689],\n",
      "       [11.72833343]]), array([[-2.89985494],\n",
      "       [ 2.62066993],\n",
      "       [10.57699258]]), array([[-1.22339632],\n",
      "       [ 3.52139948],\n",
      "       [15.6731179 ]]), array([[ 1.81888151],\n",
      "       [-4.2642919 ],\n",
      "       [12.45728517]])]\n"
     ]
    }
   ],
   "source": [
    "ret, mtx, dist, rvecs, tvecs = cv.calibrateCamera(objpoints, imgpoints, gray.shape[::-1], None, None)\n",
    "print(ret)\n",
    "print(mtx)\n",
    "print(dist)\n",
    "print(rvecs)\n",
    "print(tvecs)"
   ]
  },
  {
   "cell_type": "code",
   "execution_count": 5,
   "id": "greatest-answer",
   "metadata": {},
   "outputs": [],
   "source": [
    "img = cv.imread('.\\images\\left12.jpg')\n",
    "h,  w = img.shape[:2]\n",
    "newcameramtx, roi = cv.getOptimalNewCameraMatrix(mtx, dist, (w,h), 1, (w,h))"
   ]
  },
  {
   "cell_type": "code",
   "execution_count": 6,
   "id": "exotic-sharing",
   "metadata": {},
   "outputs": [
    {
     "data": {
      "text/plain": [
       "True"
      ]
     },
     "execution_count": 6,
     "metadata": {},
     "output_type": "execute_result"
    }
   ],
   "source": [
    "# undistort\n",
    "dst = cv.undistort(img, mtx, dist, None, newcameramtx)\n",
    "# crop the image\n",
    "x, y, w, h = roi\n",
    "dst = dst[y:y+h, x:x+w]\n",
    "cv.imwrite('calibresult.png', dst)"
   ]
  },
  {
   "cell_type": "code",
   "execution_count": 7,
   "id": "sudden-british",
   "metadata": {},
   "outputs": [
    {
     "name": "stdout",
     "output_type": "stream",
     "text": [
      "['C:\\\\Users\\\\Pedro\\\\Desktop\\\\brasis\\\\Calibración de cámara', 'C:\\\\Users\\\\Pedro\\\\.conda\\\\envs\\\\Calibracion de Camara\\\\python38.zip', 'C:\\\\Users\\\\Pedro\\\\.conda\\\\envs\\\\Calibracion de Camara\\\\DLLs', 'C:\\\\Users\\\\Pedro\\\\.conda\\\\envs\\\\Calibracion de Camara\\\\lib', 'C:\\\\Users\\\\Pedro\\\\.conda\\\\envs\\\\Calibracion de Camara', '', 'C:\\\\Users\\\\Pedro\\\\AppData\\\\Roaming\\\\Python\\\\Python38\\\\site-packages', 'C:\\\\Users\\\\Pedro\\\\.conda\\\\envs\\\\Calibracion de Camara\\\\lib\\\\site-packages', 'C:\\\\Users\\\\Pedro\\\\.conda\\\\envs\\\\Calibracion de Camara\\\\lib\\\\site-packages\\\\win32', 'C:\\\\Users\\\\Pedro\\\\.conda\\\\envs\\\\Calibracion de Camara\\\\lib\\\\site-packages\\\\win32\\\\lib', 'C:\\\\Users\\\\Pedro\\\\.conda\\\\envs\\\\Calibracion de Camara\\\\lib\\\\site-packages\\\\Pythonwin', 'C:\\\\Users\\\\Pedro\\\\.conda\\\\envs\\\\Calibracion de Camara\\\\lib\\\\site-packages\\\\IPython\\\\extensions', 'C:\\\\Users\\\\Pedro\\\\.ipython']\n"
     ]
    }
   ],
   "source": [
    "import sys\n",
    "print(sys.path)"
   ]
  },
  {
   "cell_type": "code",
   "execution_count": 7,
   "id": "peripheral-ambassador",
   "metadata": {},
   "outputs": [
    {
     "data": {
      "text/plain": [
       "-1"
      ]
     },
     "execution_count": 7,
     "metadata": {},
     "output_type": "execute_result"
    }
   ],
   "source": [
    "cv.imshow('calibresult.png', dst)\n",
    "cv.imshow('Original image', img)\n",
    "cv.waitKey(500)"
   ]
  },
  {
   "cell_type": "code",
   "execution_count": 8,
   "id": "professional-nicaragua",
   "metadata": {},
   "outputs": [
    {
     "name": "stdout",
     "output_type": "stream",
     "text": [
      "total error: 0.023686000375385676\n"
     ]
    }
   ],
   "source": [
    "mean_error = 0\n",
    "for i in range(len(objpoints)):\n",
    "    imgpoints2, _ = cv.projectPoints(objpoints[i], rvecs[i], tvecs[i], mtx, dist)\n",
    "    error = cv.norm(imgpoints[i], imgpoints2, cv.NORM_L2)/len(imgpoints2)\n",
    "    mean_error += error\n",
    "print( \"total error: {}\".format(mean_error/len(objpoints)) )"
   ]
  },
  {
   "cell_type": "code",
   "execution_count": null,
   "id": "right-nomination",
   "metadata": {},
   "outputs": [],
   "source": []
  }
 ],
 "metadata": {
  "kernelspec": {
   "display_name": "Python 3",
   "language": "python",
   "name": "python3"
  },
  "language_info": {
   "codemirror_mode": {
    "name": "ipython",
    "version": 3
   },
   "file_extension": ".py",
   "mimetype": "text/x-python",
   "name": "python",
   "nbconvert_exporter": "python",
   "pygments_lexer": "ipython3",
   "version": "3.8.5"
  }
 },
 "nbformat": 4,
 "nbformat_minor": 5
}
