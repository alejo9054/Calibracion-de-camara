{
 "cells": [
  {
   "cell_type": "code",
   "execution_count": 1,
   "id": "patent-spending",
   "metadata": {},
   "outputs": [],
   "source": [
    "%matplotlib inline\n",
    "import cv2 as cv\n",
    "import numpy as np\n",
    "from math import sqrt\n",
    "import math\n",
    "\n",
    "import matplotlib.pyplot as plt\n",
    "from PIL import Image"
   ]
  },
  {
   "cell_type": "code",
   "execution_count": 2,
   "id": "opponent-indian",
   "metadata": {},
   "outputs": [],
   "source": [
    "def seg_color(src,bajos, altos):\n",
    "    mask = cv.inRange(src, bajos, altos)\n",
    "    return mask\n",
    "        \n",
    "def buscar_centroide(mask):\n",
    "\n",
    "    moments = cv.moments(mask)\n",
    "    area=moments['m00']\n",
    "    \n",
    "    x = int(moments['m10']/moments['m00'])\n",
    "    y = int(moments['m01']/moments['m00'])\n",
    "    \n",
    "    # put text and highlight the center\n",
    "\n",
    "    #cv.circle(mask, (x, y), 5, (0, 0, 0), -1)\n",
    "\n",
    "    #cv.putText(mask, \"centroid\", (x - 25, y - 25),cv.FONT_HERSHEY_SIMPLEX, 0.5, (0, 0, 0), 2)\n",
    "    cv.rectangle(mask,(x,y),(x+2, y+2),(0,0,0),2)#poner un punto en el centroide\n",
    "    \n",
    "    \n",
    "    return mask,x,y\n",
    "   "
   ]
  },
  {
   "cell_type": "code",
   "execution_count": 3,
   "id": "rapid-spokesman",
   "metadata": {},
   "outputs": [],
   "source": [
    "rojo_bajos = np.array([0,0,50], dtype=np.uint8)\n",
    "rojo_altos = np.array([255, 122, 255], dtype=np.uint8)\n"
   ]
  },
  {
   "cell_type": "code",
   "execution_count": 4,
   "id": "olympic-berlin",
   "metadata": {},
   "outputs": [
    {
     "name": "stdout",
     "output_type": "stream",
     "text": [
      "(480, 640, 3)\n",
      "(480, 640)\n",
      "137 305\n"
     ]
    }
   ],
   "source": [
    "src=cv.imread('Frame 3-Snapshot_1.png')\n",
    "\n",
    "src_np= np.array((src))\n",
    "print(src_np.shape)\n",
    "maskRojo=seg_color(src, rojo_bajos, rojo_altos) \n",
    "print(maskRojo.shape)\n",
    "maskRojo,xRojo,yRojo=buscar_centroide(maskRojo) \n",
    "\n",
    "\n",
    "print(xRojo,yRojo)\n",
    "cv.imshow('camara',src)\n",
    "cv.imshow('Rojo', maskRojo)\n",
    "cv.waitKey(0)\n",
    "cv.destroyAllWindows()"
   ]
  },
  {
   "cell_type": "code",
   "execution_count": 13,
   "id": "printable-behavior",
   "metadata": {},
   "outputs": [
    {
     "name": "stdout",
     "output_type": "stream",
     "text": [
      "320 240\n"
     ]
    }
   ],
   "source": [
    "#Moviendo el 0,0 de la imagen al centro\n",
    "y_center= int(src.shape[0]/2)\n",
    "x_center= int(src.shape[1]/2)\n",
    "print(x_center,y_center)\n",
    "img = np.zeros((480,640,3), np.uint8)\n",
    "cv.line(src,(x_center,0),(x_center,480),(255,0,0),1)\n",
    "cv.line(src,(0,y_center),(640,y_center),(255,0,0),1)\n",
    "cv.imshow('axis',src)\n",
    "cv.waitKey(0)\n",
    "cv.destroyAllWindows()"
   ]
  },
  {
   "cell_type": "code",
   "execution_count": 23,
   "id": "changing-engine",
   "metadata": {},
   "outputs": [
    {
     "name": "stdout",
     "output_type": "stream",
     "text": [
      "-183 65\n"
     ]
    }
   ],
   "source": [
    "#ubicando el centroide del objeto con el nuevo centro de la imagen\n",
    "#conocido tambn como cambio de base\n",
    "N_xRojo=xRojo-x_center#estos son los valores q se deben usar para la matriz de transformacion homogenia para pasar de los valores 2d a 3d\n",
    "N_yRojo=yRojo-y_center\n",
    "print(N_xRojo,N_yRojo)\n",
    "cv.rectangle(src,(xRojo,yRojo),(xRojo+2, yRojo+2),(255,0,0),2)#poner un punto en el centroide\n",
    "cv.imshow('Centroide',src)\n",
    "cv.waitKey(0)\n",
    "cv.destroyAllWindows()"
   ]
  },
  {
   "cell_type": "code",
   "execution_count": 21,
   "id": "integrated-cable",
   "metadata": {},
   "outputs": [
    {
     "name": "stdout",
     "output_type": "stream",
     "text": [
      "-320 -240\n"
     ]
    }
   ],
   "source": []
  },
  {
   "cell_type": "code",
   "execution_count": null,
   "id": "proud-swift",
   "metadata": {},
   "outputs": [],
   "source": []
  }
 ],
 "metadata": {
  "kernelspec": {
   "display_name": "Python 3",
   "language": "python",
   "name": "python3"
  },
  "language_info": {
   "codemirror_mode": {
    "name": "ipython",
    "version": 3
   },
   "file_extension": ".py",
   "mimetype": "text/x-python",
   "name": "python",
   "nbconvert_exporter": "python",
   "pygments_lexer": "ipython3",
   "version": "3.8.5"
  }
 },
 "nbformat": 4,
 "nbformat_minor": 5
}
