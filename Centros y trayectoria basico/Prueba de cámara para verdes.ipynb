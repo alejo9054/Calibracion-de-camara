{
 "cells": [
  {
   "cell_type": "code",
   "execution_count": null,
   "id": "configured-sculpture",
   "metadata": {},
   "outputs": [],
   "source": [
    "import cv2\n",
    "import numpy as np\n",
    " \n",
    "#Iniciamos la camara\n",
    "captura = cv2.VideoCapture(0)\n",
    " \n",
    "while(1):\n",
    "     \n",
    "    #Capturamos una imagen y la convertimos de RGB -> HSV\n",
    "    _, imagen = captura.read(0)\n",
    "    LAB = cv2.cvtColor(imagen, cv2.COLOR_BGR2LAB)\n",
    " \n",
    "    #Establecemos el rango de colores que vamos a detectar\n",
    "    #En este caso de verde oscuro a verde-azulado claro\n",
    "    #verde_bajos = np.array([0,50,50], dtype=np.uint8) #    verde_bajos = np.array([49,50,50], dtype=np.uint8)\n",
    "    #verde_altos = np.array([255, 100, 255], dtype=np.uint8)# verde_altos = np.array([80, 255, 255], dtype=np.uint8)\n",
    "    verde_bajos = np.array([0,100,100], dtype=np.uint8) \n",
    "    verde_altos = np.array([255, 255, 255], dtype=np.uint8)\n",
    "    #Crear una mascara con solo los pixeles dentro del rango de verdes\n",
    "    mask = cv2.inRange(LAB, verde_bajos, verde_altos)\n",
    " \n",
    "    #Encontrar el area de los objetos que detecta la camara\n",
    "    moments = cv2.moments(mask)\n",
    "    area = moments['m00']\n",
    " \n",
    "    #Descomentar para ver el area por pantalla\n",
    "    #print area\n",
    "    if(area > 2000000):\n",
    "         \n",
    "        #Buscamos el centro x, y del objeto\n",
    "        x = int(moments['m10']/moments['m00'])\n",
    "        y = int(moments['m01']/moments['m00'])\n",
    "         \n",
    "        #Mostramos sus coordenadas por pantalla\n",
    "        print (\"x = \", x)\n",
    "        print (\"y = \", y)\n",
    " \n",
    "        #Dibujamos una marca en el centro del objeto\n",
    "        cv2.rectangle(imagen, (x, y), (x+2, y+2),(0,0,255), 2)\n",
    "     \n",
    "     \n",
    "    #Mostramos la imagen original con la marca del centro y\n",
    "    #la mascara\n",
    "    cv2.imshow('mask', mask)\n",
    "    cv2.imshow('Camara', imagen)\n",
    "    tecla = cv2.waitKey(5) & 0xFF\n",
    "    if tecla == 27:\n",
    "        break\n",
    " \n",
    "cv2.destroyAllWindows()"
   ]
  }
 ],
 "metadata": {
  "kernelspec": {
   "display_name": "Python 3",
   "language": "python",
   "name": "python3"
  },
  "language_info": {
   "codemirror_mode": {
    "name": "ipython",
    "version": 3
   },
   "file_extension": ".py",
   "mimetype": "text/x-python",
   "name": "python",
   "nbconvert_exporter": "python",
   "pygments_lexer": "ipython3",
   "version": "3.8.5"
  }
 },
 "nbformat": 4,
 "nbformat_minor": 5
}
