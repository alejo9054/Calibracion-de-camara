{
 "cells": [
  {
   "cell_type": "code",
   "execution_count": 11,
   "id": "economic-bleeding",
   "metadata": {},
   "outputs": [],
   "source": [
    "import numpy as np\n",
    "import cv2 as cv\n",
    "import glob\n",
    "\n",
    "np.set_printoptions(suppress=True) "
   ]
  },
  {
   "cell_type": "code",
   "execution_count": 12,
   "id": "registered-panama",
   "metadata": {},
   "outputs": [],
   "source": [
    "#Extrinsic Parametrers\n",
    "#Matrices de rotacion para la camara \n",
    "Angle_x = np.deg2rad(180)\n",
    "Angle_y = np.deg2rad(0)\n",
    "Angle_z = np.deg2rad(180)\n",
    "Rx = np.array([[1,0,0],\n",
    "               [0,np.cos(Angle_x),-np.sin(Angle_x)],\n",
    "               [0,np.sin(Angle_x),np.cos(Angle_x)],\n",
    "              ])\n",
    "Ry = np.array([\n",
    "                [np.cos(Angle_y),0,np.sin(Angle_y)],\n",
    "               [0,1,0],\n",
    "               [-np.sin(Angle_y),0,np.cos(Angle_y)],\n",
    "              ])\n",
    "Rz = np.array([\n",
    "                [np.cos(Angle_z),-np.sin(Angle_z),0],\n",
    "                [np.sin(Angle_z),np.cos(Angle_z),0],\n",
    "                [0,0,1]\n",
    "            ])"
   ]
  },
  {
   "cell_type": "code",
   "execution_count": 13,
   "id": "damaged-appointment",
   "metadata": {
    "scrolled": true
   },
   "outputs": [
    {
     "name": "stdout",
     "output_type": "stream",
     "text": [
      "[[ 1.  0.  0.]\n",
      " [ 0. -1. -0.]\n",
      " [ 0.  0. -1.]]\n",
      "[[ 1.  0.  0.]\n",
      " [ 0.  1.  0.]\n",
      " [-0.  0.  1.]]\n",
      "[[-1. -0.  0.]\n",
      " [ 0. -1.  0.]\n",
      " [ 0.  0.  1.]]\n"
     ]
    }
   ],
   "source": [
    "print(Rx)\n",
    "print(Ry)\n",
    "print(Rz)\n"
   ]
  },
  {
   "cell_type": "code",
   "execution_count": 14,
   "id": "completed-steam",
   "metadata": {},
   "outputs": [],
   "source": [
    "Rotation_matrix = Rz.dot(Ry).dot(Rx)# calculando matriz de rotacion"
   ]
  },
  {
   "cell_type": "code",
   "execution_count": 15,
   "id": "experienced-calendar",
   "metadata": {},
   "outputs": [
    {
     "name": "stdout",
     "output_type": "stream",
     "text": [
      "[[-1.  0.  0.]\n",
      " [ 0.  1.  0.]\n",
      " [ 0.  0. -1.]]\n"
     ]
    }
   ],
   "source": [
    "print(Rotation_matrix)"
   ]
  },
  {
   "cell_type": "code",
   "execution_count": 16,
   "id": "essential-executive",
   "metadata": {},
   "outputs": [],
   "source": [
    "# Vector de posiscion del origen de la camara \n",
    "X_o=np.array([[100],[0],[2000]])\n",
    "# vector de posicion del objeto\n",
    "X_p= np.array([[650],[200],[0]])"
   ]
  },
  {
   "cell_type": "code",
   "execution_count": 17,
   "id": "minus-manor",
   "metadata": {},
   "outputs": [
    {
     "name": "stdout",
     "output_type": "stream",
     "text": [
      "X_o\n",
      "[[ 100]\n",
      " [   0]\n",
      " [2000]]\n",
      "X_p\n",
      "[[650]\n",
      " [200]\n",
      " [  0]]\n"
     ]
    }
   ],
   "source": [
    "print(\"X_o\")\n",
    "print(X_o)\n",
    "print(\"X_p\")\n",
    "print(X_p)"
   ]
  },
  {
   "cell_type": "code",
   "execution_count": 18,
   "id": "selective-oasis",
   "metadata": {},
   "outputs": [],
   "source": [
    "#Acomodandolo las matrices en la frorma homogenea \n",
    "#Matriz de rotacion Homogenea\n",
    "H_Rotation_Matrix=np.append(Rotation_matrix,np.zeros((1,3)),axis=0)#agregando vector de 0 en la base\n",
    "H_Rotation_Matrix=np.append(H_Rotation_Matrix,np.array([[0],[0],[0],[1]]), axis = 1)#agregando un vector al lateral"
   ]
  },
  {
   "cell_type": "code",
   "execution_count": 19,
   "id": "hungarian-industry",
   "metadata": {},
   "outputs": [
    {
     "name": "stdout",
     "output_type": "stream",
     "text": [
      "[[-1.  0.  0.  0.]\n",
      " [ 0.  1.  0.  0.]\n",
      " [ 0.  0. -1.  0.]\n",
      " [ 0.  0.  0.  1.]]\n"
     ]
    }
   ],
   "source": [
    "print(H_Rotation_Matrix)"
   ]
  },
  {
   "cell_type": "code",
   "execution_count": 20,
   "id": "studied-toronto",
   "metadata": {},
   "outputs": [],
   "source": [
    "#Matriz de proyeccion del centro de camara\n",
    "Auxiliar_X_o = np.array([np.append(-X_o,np.array([1]))])\n",
    "H_X_o = np.append(np.eye(3), np.zeros((1,3)), axis=0)\n",
    "H_X_o = np.append(H_X_o, Auxiliar_X_o.T, axis=1)"
   ]
  },
  {
   "cell_type": "code",
   "execution_count": 21,
   "id": "naval-collective",
   "metadata": {},
   "outputs": [
    {
     "name": "stdout",
     "output_type": "stream",
     "text": [
      "[[    1.     0.     0.  -100.]\n",
      " [    0.     1.     0.     0.]\n",
      " [    0.     0.     1. -2000.]\n",
      " [    0.     0.     0.     1.]]\n"
     ]
    }
   ],
   "source": [
    "print(H_X_o)"
   ]
  },
  {
   "cell_type": "code",
   "execution_count": 22,
   "id": "second-intensity",
   "metadata": {},
   "outputs": [
    {
     "name": "stdout",
     "output_type": "stream",
     "text": [
      "[[650 200   0   1]]\n"
     ]
    }
   ],
   "source": [
    "#Vector  X_p en forma homogenea\n",
    "H_X_p = np.array([np.append(X_p,1)])\n",
    "print(H_X_p)"
   ]
  },
  {
   "cell_type": "code",
   "execution_count": 23,
   "id": "quality-sampling",
   "metadata": {},
   "outputs": [
    {
     "name": "stdout",
     "output_type": "stream",
     "text": [
      "[[  -1.    0.    0.  100.]\n",
      " [   0.    1.    0.   -0.]\n",
      " [   0.    0.   -1. 2000.]\n",
      " [   0.    0.    0.    1.]]\n",
      "[[-550.]\n",
      " [ 200.]\n",
      " [2000.]\n",
      " [   1.]]\n"
     ]
    }
   ],
   "source": [
    "#Matriz que expresa el vector de posicion del objeto en las coordenadas de la camra\n",
    "print(H_Rotation_Matrix.dot(H_X_o))\n",
    "K_X_p = H_Rotation_Matrix.dot(H_X_o).dot(H_X_p.T)\n",
    "print(K_X_p)"
   ]
  },
  {
   "cell_type": "code",
   "execution_count": 29,
   "id": "handmade-ensemble",
   "metadata": {},
   "outputs": [],
   "source": [
    "#Intrinsic parametrers\n",
    "# funciones para segmentar color y buscar el centroide\n",
    "def seg_color(src,bajos, altos):\n",
    "    mask = cv.inRange(src, bajos, altos)\n",
    "    return mask\n",
    "        \n",
    "def buscar_centroide(mask):\n",
    "\n",
    "    moments = cv.moments(mask)\n",
    "    area=moments['m00']\n",
    "    \n",
    "    x = int(moments['m10']/moments['m00'])\n",
    "    y = int(moments['m01']/moments['m00'])\n",
    "    \n",
    "    # put text and highlight the center\n",
    "\n",
    "    #cv.circle(mask, (x, y), 5, (0, 0, 0), -1)\n",
    "\n",
    "    #cv.putText(mask, \"centroid\", (x - 25, y - 25),cv.FONT_HERSHEY_SIMPLEX, 0.5, (0, 0, 0), 2)\n",
    "    cv.rectangle(mask,(x,y),(x+2, y+2),(0,0,0),2)#poner un punto en el centroide\n",
    "    \n",
    "    \n",
    "    return mask,x,y\n",
    "   "
   ]
  },
  {
   "cell_type": "code",
   "execution_count": 30,
   "id": "capital-parts",
   "metadata": {},
   "outputs": [],
   "source": [
    "#rangos de rojo que queremos segmentar \n",
    "rojo_bajos = np.array([0,0,80], dtype=np.uint8)\n",
    "rojo_altos = np.array([240, 122, 255], dtype=np.uint8)\n"
   ]
  },
  {
   "cell_type": "code",
   "execution_count": 31,
   "id": "serial-wellington",
   "metadata": {},
   "outputs": [
    {
     "name": "stdout",
     "output_type": "stream",
     "text": [
      "(480, 640, 3)\n",
      "(480, 640)\n",
      "139 305\n"
     ]
    }
   ],
   "source": [
    "#leyendo imagen de robo dk y tomando la posicion del centroide,\n",
    "#estas coordenadas van a ser utiles para calcular la constante de la camara\n",
    "\n",
    "src=cv.imread('Frame 3-Snapshot_1.png')\n",
    "\n",
    "src_np= np.array((src))\n",
    "print(src_np.shape)\n",
    "maskRojo=seg_color(src, rojo_bajos, rojo_altos) \n",
    "print(maskRojo.shape)\n",
    "maskRojo,xRojo,yRojo=buscar_centroide(maskRojo) \n",
    "\n",
    "\n",
    "print(xRojo,yRojo)\n",
    "cv.imshow('camara',src)\n",
    "cv.imshow('Rojo', maskRojo)\n",
    "cv.waitKey(0)\n",
    "cv.destroyAllWindows()"
   ]
  },
  {
   "cell_type": "code",
   "execution_count": 32,
   "id": "hazardous-tractor",
   "metadata": {},
   "outputs": [
    {
     "name": "stdout",
     "output_type": "stream",
     "text": [
      "320 240\n"
     ]
    }
   ],
   "source": [
    "#Moviendo el 0,0 de la imagen al centro\n",
    "y_center= int(src.shape[0]/2)\n",
    "x_center= int(src.shape[1]/2)\n",
    "print(x_center,y_center)\n",
    "img = np.zeros((480,640,3), np.uint8)\n",
    "cv.line(src,(x_center,0),(x_center,480),(255,0,0),1)\n",
    "cv.line(src,(0,y_center),(640,y_center),(255,0,0),1)\n",
    "cv.imshow('axis',src)\n",
    "cv.waitKey(0)\n",
    "cv.destroyAllWindows()"
   ]
  },
  {
   "cell_type": "code",
   "execution_count": 33,
   "id": "worthy-behalf",
   "metadata": {},
   "outputs": [
    {
     "name": "stdout",
     "output_type": "stream",
     "text": [
      "-181 65\n"
     ]
    }
   ],
   "source": [
    "#ubicando el centroide del objeto con el nuevo centro de la imagen\n",
    "#conocido tambn como cambio de base\n",
    "N_xRojo=xRojo-x_center#estos son los valores q se deben usar para la matriz de transformacion homogenia para pasar de los valores 2d a 3d\n",
    "N_yRojo=yRojo-y_center\n",
    "print(N_xRojo,N_yRojo)\n",
    "cv.rectangle(src,(xRojo,yRojo),(xRojo+2, yRojo+2),(255,0,0),2)#poner un punto en el centroide\n",
    "cv.imshow('Centroide',src)\n",
    "cv.waitKey(0)\n",
    "cv.destroyAllWindows()"
   ]
  },
  {
   "cell_type": "code",
   "execution_count": 34,
   "id": "natural-provision",
   "metadata": {},
   "outputs": [
    {
     "name": "stdout",
     "output_type": "stream",
     "text": [
      "[[-5.5e+02]\n",
      " [ 2.0e+02]\n",
      " [ 2.0e+03]\n",
      " [ 1.0e+00]]\n",
      "658.1818181818181\n"
     ]
    }
   ],
   "source": [
    "#Encontrando la constante de la camara\n",
    "#debido a que [x*w,y*w,w].T=[[c,0,0,0],[0,c,0,0],[0,0,1,0]].*[X,Y,Z,1].T \n",
    "#sabemos que Z==w y teniendo el punto en la imajen (N_xRojo,N_yRojo) y el vector K_X_p\n",
    "#podemos encontrar el valor de c que es la constante de la camara\n",
    "np.set_printoptions(suppress=False) \n",
    "c=float(N_xRojo*K_X_p[2]/K_X_p[0])\n",
    "print(K_X_p)\n",
    "print(c)"
   ]
  },
  {
   "cell_type": "code",
   "execution_count": 35,
   "id": "impaired-consensus",
   "metadata": {},
   "outputs": [
    {
     "name": "stdout",
     "output_type": "stream",
     "text": [
      "[[658.18181818   0.           0.           0.        ]\n",
      " [  0.         658.18181818   0.           0.        ]\n",
      " [  0.           0.           1.           0.        ]] \n",
      "\n",
      "[[-362000.        ]\n",
      " [ 131636.36363636]\n",
      " [   2000.        ]]\n",
      "[[-181.        ]\n",
      " [  65.81818182]\n",
      " [   1.        ]]\n"
     ]
    }
   ],
   "source": [
    "#comprobando\n",
    "C_x_p=(np.array([[c,0,0,0],[0,c,0,0],[0,0,1,0]]).dot(K_X_p))\n",
    "C_X_p=(np.array([[c,0,0,0],[0,c,0,0],[0,0,1,0]]))\n",
    "print(C_X_p,'\\n')\n",
    "#dividiendo por el valor Z\n",
    "\n",
    "print(C_x_p)\n",
    "print(C_x_p/K_X_p[2])"
   ]
  },
  {
   "cell_type": "code",
   "execution_count": 36,
   "id": "attended-sharp",
   "metadata": {},
   "outputs": [
    {
     "name": "stdout",
     "output_type": "stream",
     "text": [
      "1.2430939226519337\n",
      "-1.2587412615384717\n"
     ]
    }
   ],
   "source": [
    "error= ((65-65.81818182)/65)*100\n",
    "error2= ((181-178.75)/181)*100\n",
    "print(error2)\n",
    "print(error)"
   ]
  },
  {
   "cell_type": "code",
   "execution_count": 37,
   "id": "purple-stocks",
   "metadata": {},
   "outputs": [],
   "source": [
    "#corrigiendo error\n",
    "#para corregirlo debemos realizar la traslacion del centro de la imagen pero por medio de coordenadas homogeneas\n",
    "#ademas de agregar un parametro de diferencia de escala m que tiene la camara entre x y y"
   ]
  },
  {
   "cell_type": "code",
   "execution_count": 38,
   "id": "undefined-enemy",
   "metadata": {},
   "outputs": [
    {
     "name": "stdout",
     "output_type": "stream",
     "text": [
      "[[  1   0 320]\n",
      " [  0   1 240]\n",
      " [  0   0   1]]\n",
      "[[278000.        ]\n",
      " [611636.36363636]\n",
      " [  2000.        ]]\n",
      "[[139.        ]\n",
      " [305.81818182]\n",
      " [  1.        ]]\n"
     ]
    }
   ],
   "source": [
    "S_H_c=np.array([[1,0,x_center],[0,1,y_center],[0,0,1]]).dot(C_x_p)\n",
    "\n",
    "S_H_c1_matriz=np.array([[1,0,x_center],[0,1,y_center],[0,0,1]])\n",
    "print(S_H_c1_matriz)\n",
    "print(S_H_c)\n",
    "print(S_H_c/K_X_p[2])#estos son los valores del centrodie del objeto en la imagen con las coordenadas originales de la imagen\n"
   ]
  },
  {
   "cell_type": "code",
   "execution_count": 39,
   "id": "cooperative-authorization",
   "metadata": {},
   "outputs": [
    {
     "name": "stdout",
     "output_type": "stream",
     "text": [
      "-0.012430939226518278\n",
      "[305.]\n",
      "[2000.]\n",
      "240\n"
     ]
    }
   ],
   "source": [
    "#se agrega un parametro m en la matriz anterior para ajustar la diferencia de escarla entre x e y\n",
    "#tambien se agrega un parametro s que se conoce como \"sheer\" pero como estamos usando una camara digital este valor se asume como 0\n",
    "#la matriz queda de la siguiente manera\n",
    "#S_H_c_modificada=np.array([[1,s,x_center],[0,1+m,y_center],[0,0,1]])\n",
    "#calculando m\n",
    "s=0\n",
    "m=float((((305*C_x_p[2])-(y_center*C_x_p[2]))/C_x_p[1])-1)\n",
    "U=((0+(1+m)*C_x_p[1]+y_center*C_x_p[2]))/C_x_p[2]\n",
    "\n",
    "print(m)\n",
    "print(U)\n",
    "print(C_x_p[2])\n",
    "print(y_center)"
   ]
  },
  {
   "cell_type": "code",
   "execution_count": 40,
   "id": "fewer-policy",
   "metadata": {},
   "outputs": [
    {
     "name": "stdout",
     "output_type": "stream",
     "text": [
      "[[  1.           0.         320.        ]\n",
      " [  0.           0.98756906 240.        ]\n",
      " [  0.           0.           1.        ]]\n"
     ]
    }
   ],
   "source": [
    "S_H_c2_matriz=np.array([[1,s,x_center],[0,1+m,y_center],[0,0,1]])#agregando el parametro m \n",
    "\n",
    "print(S_H_c2_matriz)"
   ]
  },
  {
   "cell_type": "code",
   "execution_count": 41,
   "id": "plain-withdrawal",
   "metadata": {},
   "outputs": [
    {
     "name": "stdout",
     "output_type": "stream",
     "text": [
      "[[658.18181818   0.         320.           0.        ]\n",
      " [  0.         650.         240.           0.        ]\n",
      " [  0.           0.           1.           0.        ]]\n"
     ]
    }
   ],
   "source": [
    "#Calculando matriz de calibracion, esta matriz es una transformacion afín para corregir errores\n",
    "K=S_H_c2_matriz.dot(C_X_p)#.dot(K_X_p)\n",
    "print(K)"
   ]
  },
  {
   "cell_type": "code",
   "execution_count": 42,
   "id": "industrial-drinking",
   "metadata": {},
   "outputs": [
    {
     "name": "stdout",
     "output_type": "stream",
     "text": [
      "[[  1.           0.         320.        ]\n",
      " [  0.           0.98756906 240.        ]\n",
      " [  0.           0.           1.        ]]\n",
      "[[278000.]\n",
      " [610000.]\n",
      " [  2000.]] \n",
      "\n",
      "[[139.]\n",
      " [305.]\n",
      " [  1.]]\n"
     ]
    }
   ],
   "source": [
    "#comprobando\n",
    "S_H_c_modificado=np.array([[1,s,x_center],[0,1+m,y_center],[0,0,1]]).dot(C_x_p)\n",
    "print(np.array([[1,s,x_center],[0,1+m,y_center],[0,0,1]]))\n",
    "print(S_H_c_modificado,'\\n')\n",
    "print(S_H_c_modificado/S_H_c_modificado[2])#listo el algoritmo DLT"
   ]
  },
  {
   "cell_type": "code",
   "execution_count": 43,
   "id": "careful-stuart",
   "metadata": {},
   "outputs": [
    {
     "name": "stdout",
     "output_type": "stream",
     "text": [
      "[[  -658.18181818      0.           -320.         705818.18181818]\n",
      " [     0.            650.           -240.         480000.        ]\n",
      " [     0.              0.             -1.           2000.        ]]\n",
      "[[278000.]\n",
      " [610000.]\n",
      " [  2000.]]\n",
      "[[139.]\n",
      " [305.]\n",
      " [  1.]]\n"
     ]
    }
   ],
   "source": [
    "#Direct linear transform, justamos todas las matrices calculadas a travez de los parametros\n",
    "##Extrinsecas\n",
    "#Matriz de posicion de la proyeccion de la camara, H_X_o\n",
    "#Matriz de rotacion de la proyeccion de la camara, H_Rotation_Matrix\n",
    "##intrinsecas\n",
    "#Matriz de proyeccion de perspectiva ideal, C_X_p\n",
    "#Matriz de calibracion, S_H_c1_matriz-> S_H_c2_matriz*C_X_p-> K\n",
    "np.set_printoptions(suppress=True) \n",
    "P=K.dot(H_Rotation_Matrix).dot(H_X_o)\n",
    "print(P)\n",
    "#comprobando\n",
    "print(P.dot(H_X_p.T))\n",
    "\n",
    "print(P.dot(H_X_p.T)/2000)"
   ]
  },
  {
   "cell_type": "code",
   "execution_count": 44,
   "id": "surprising-yugoslavia",
   "metadata": {},
   "outputs": [
    {
     "name": "stdout",
     "output_type": "stream",
     "text": [
      "[[-658.18181818    0.         -320.            0.        ]\n",
      " [   0.          650.         -240.            0.        ]\n",
      " [   0.            0.           -1.            0.        ]]\n",
      "[[-0.00151934  0.          0.48618785]\n",
      " [ 0.          0.00153846 -0.36923077]\n",
      " [ 0.          0.         -1.        ]]\n",
      "[[139]\n",
      " [305]\n",
      " [  1]]\n",
      "[[  96.96132597  100.         1072.37569061]\n",
      " [   0.            3.07692308 -738.46153846]\n",
      " [2000.         2000.            0.        ]]\n",
      "Result\n",
      "[[650.]\n",
      " [200.]\n",
      " [  0.]]\n"
     ]
    }
   ],
   "source": [
    "KR=K.dot(H_Rotation_Matrix)\n",
    "KR_inv = np.linalg.inv(KR[:3,:3])\n",
    "#KR_inv = np.append(KR_inv, np.zeros((3,1)), axis = 1)\n",
    "x= np.array([[139],[305],[1]])\n",
    "print(KR)\n",
    "print(KR_inv)\n",
    "print(x)\n",
    "p_inv= X_o+2000*KR_inv\n",
    "P_result=X_o+2000*KR_inv.dot(x)\n",
    "print(p_inv)\n",
    "print(\"Result\")\n",
    "print(P_result)"
   ]
  },
  {
   "cell_type": "code",
   "execution_count": 45,
   "id": "chinese-jungle",
   "metadata": {},
   "outputs": [],
   "source": [
    "######Testing\n",
    "#[650,-300,0]\n"
   ]
  },
  {
   "cell_type": "code",
   "execution_count": 46,
   "id": "alpine-report",
   "metadata": {},
   "outputs": [
    {
     "name": "stdout",
     "output_type": "stream",
     "text": [
      "(480, 640, 3)\n",
      "(480, 640)\n",
      "137 140\n"
     ]
    }
   ],
   "source": [
    "#leyendo imagen de robo dk y tomando la posicion del centroide,\n",
    "#estas coordenadas van a ser utiles para calcular la constante de la camara\n",
    "\n",
    "src=cv.imread('Frame_3-Snapshot_2.png')\n",
    "\n",
    "src_np= np.array((src))\n",
    "print(src_np.shape)\n",
    "maskRojo=seg_color(src, rojo_bajos, rojo_altos) \n",
    "print(maskRojo.shape)\n",
    "maskRojo,xRojo,yRojo=buscar_centroide(maskRojo) \n",
    "\n",
    "\n",
    "print(xRojo,yRojo)\n",
    "cv.imshow('camara',src)\n",
    "cv.imshow('Rojo', maskRojo)\n",
    "cv.waitKey(0)\n",
    "cv.destroyAllWindows()"
   ]
  },
  {
   "cell_type": "code",
   "execution_count": 47,
   "id": "written-frost",
   "metadata": {},
   "outputs": [
    {
     "name": "stdout",
     "output_type": "stream",
     "text": [
      "[[137]\n",
      " [140]\n",
      " [  1]]\n",
      "[[ 656.07734807]\n",
      " [-307.69230769]\n",
      " [   0.        ]]\n"
     ]
    }
   ],
   "source": [
    "x=np.array([[xRojo],[yRojo],[1]])\n",
    "print(x)\n",
    "P_result=X_o+2000*KR_inv.dot(x)\n",
    "print(P_result)"
   ]
  },
  {
   "cell_type": "code",
   "execution_count": 64,
   "id": "complimentary-moral",
   "metadata": {},
   "outputs": [],
   "source": [
    "p= ((656.07734807-650)/650)*100"
   ]
  },
  {
   "cell_type": "code",
   "execution_count": 65,
   "id": "serious-member",
   "metadata": {},
   "outputs": [
    {
     "name": "stdout",
     "output_type": "stream",
     "text": [
      "0.9349766261538417\n"
     ]
    }
   ],
   "source": [
    "print(p)"
   ]
  },
  {
   "cell_type": "code",
   "execution_count": 66,
   "id": "pretty-observation",
   "metadata": {},
   "outputs": [
    {
     "name": "stdout",
     "output_type": "stream",
     "text": [
      "(480, 640, 3)\n",
      "(480, 640)\n",
      "169 189\n"
     ]
    }
   ],
   "source": [
    "######Testing\n",
    "#[550,-150,0]\n",
    "#leyendo imagen de robo dk y tomando la posicion del centroide,\n",
    "#estas coordenadas van a ser utiles para calcular la constante de la camara\n",
    "\n",
    "src=cv.imread('Frame_3-Snapshot_3.png')\n",
    "\n",
    "src_np= np.array((src))\n",
    "print(src_np.shape)\n",
    "maskRojo=seg_color(src, rojo_bajos, rojo_altos) \n",
    "print(maskRojo.shape)\n",
    "maskRojo,xRojo,yRojo=buscar_centroide(maskRojo) \n",
    "\n",
    "\n",
    "print(xRojo,yRojo)\n",
    "cv.imshow('camara',src)\n",
    "cv.imshow('Rojo', maskRojo)\n",
    "cv.waitKey(0)\n",
    "cv.destroyAllWindows()"
   ]
  },
  {
   "cell_type": "code",
   "execution_count": 67,
   "id": "vocational-founder",
   "metadata": {},
   "outputs": [
    {
     "name": "stdout",
     "output_type": "stream",
     "text": [
      "[[169]\n",
      " [189]\n",
      " [  1]]\n",
      "[[ 558.83977901]\n",
      " [-156.92307692]\n",
      " [   0.        ]]\n"
     ]
    }
   ],
   "source": [
    "x=np.array([[xRojo],[yRojo],[1]])\n",
    "print(x)\n",
    "P_result=X_o+2000*KR_inv.dot(x)\n",
    "print(P_result)"
   ]
  },
  {
   "cell_type": "code",
   "execution_count": 68,
   "id": "tracked-humidity",
   "metadata": {},
   "outputs": [
    {
     "name": "stdout",
     "output_type": "stream",
     "text": [
      "\n"
     ]
    }
   ],
   "source": [
    "\n",
    "p= ((558.83977901-550)/550)*100\n",
    "print()"
   ]
  },
  {
   "cell_type": "code",
   "execution_count": 69,
   "id": "trying-amateur",
   "metadata": {},
   "outputs": [
    {
     "name": "stdout",
     "output_type": "stream",
     "text": [
      "(480, 640, 3)\n",
      "(480, 640)\n",
      "167 187\n"
     ]
    }
   ],
   "source": [
    "src=cv.imread('Frame_3-Snapshot_4.png')\n",
    "\n",
    "src_np= np.array((src))\n",
    "print(src_np.shape)\n",
    "maskRojo=seg_color(src, rojo_bajos, rojo_altos) \n",
    "print(maskRojo.shape)\n",
    "maskRojo,xRojo,yRojo=buscar_centroide(maskRojo) \n",
    "\n",
    "\n",
    "print(xRojo,yRojo)\n",
    "cv.imshow('camara',src)\n",
    "cv.imshow('Rojo', maskRojo)\n",
    "cv.waitKey(0)\n",
    "cv.destroyAllWindows()#### el error es muy bajo se puede usar"
   ]
  },
  {
   "cell_type": "code",
   "execution_count": 70,
   "id": "authorized-portsmouth",
   "metadata": {},
   "outputs": [
    {
     "name": "stdout",
     "output_type": "stream",
     "text": [
      "(480, 640, 3)\n",
      "(480, 640)\n",
      "468 305\n"
     ]
    }
   ],
   "source": [
    "###3 testing\n",
    "# [-350,200,0]\n",
    "\n",
    "src=cv.imread('Frame_3-Snapshot_5.png')\n",
    "\n",
    "src_np= np.array((src))\n",
    "print(src_np.shape)\n",
    "maskRojo=seg_color(src, rojo_bajos, rojo_altos) \n",
    "print(maskRojo.shape)\n",
    "maskRojo,xRojo,yRojo=buscar_centroide(maskRojo) \n",
    "\n",
    "\n",
    "print(xRojo,yRojo)\n",
    "cv.imshow('camara',src)\n",
    "cv.imshow('Rojo', maskRojo)\n",
    "cv.waitKey(0)\n",
    "cv.destroyAllWindows()"
   ]
  },
  {
   "cell_type": "code",
   "execution_count": 71,
   "id": "changed-building",
   "metadata": {},
   "outputs": [
    {
     "name": "stdout",
     "output_type": "stream",
     "text": [
      "[[468]\n",
      " [305]\n",
      " [  1]]\n",
      "[[-349.72375691]\n",
      " [ 200.        ]\n",
      " [   0.        ]]\n"
     ]
    }
   ],
   "source": [
    "x=np.array([[xRojo],[yRojo],[1]])\n",
    "print(x)\n",
    "P_result=X_o+2000*KR_inv.dot(x)\n",
    "print(P_result)"
   ]
  },
  {
   "cell_type": "code",
   "execution_count": 72,
   "id": "dense-organic",
   "metadata": {},
   "outputs": [
    {
     "name": "stdout",
     "output_type": "stream",
     "text": [
      "(480, 640, 3)\n",
      "(480, 640)\n",
      "501 256\n",
      "[[501]\n",
      " [256]\n",
      " [  1]]\n",
      "[[-450.        ]\n",
      " [  49.23076923]\n",
      " [   0.        ]]\n"
     ]
    }
   ],
   "source": [
    "### testing\n",
    "# [-450,50,0]\n",
    "\n",
    "src=cv.imread('Frame_3-Snapshot_6.png')\n",
    "\n",
    "src_np= np.array((src))\n",
    "print(src_np.shape)\n",
    "maskRojo=seg_color(src, rojo_bajos, rojo_altos) \n",
    "print(maskRojo.shape)\n",
    "maskRojo,xRojo,yRojo=buscar_centroide(maskRojo) \n",
    "\n",
    "\n",
    "print(xRojo,yRojo)\n",
    "cv.imshow('camara',src)\n",
    "cv.imshow('Rojo', maskRojo)\n",
    "cv.waitKey(0)\n",
    "cv.destroyAllWindows()\n",
    "\n",
    "x=np.array([[xRojo],[yRojo],[1]])\n",
    "print(x)\n",
    "P_result=X_o+2000*KR_inv.dot(x)\n",
    "print(P_result)"
   ]
  },
  {
   "cell_type": "code",
   "execution_count": 73,
   "id": "racial-satisfaction",
   "metadata": {},
   "outputs": [
    {
     "name": "stdout",
     "output_type": "stream",
     "text": [
      "(480, 640, 3)\n",
      "(480, 640)\n",
      "518 40\n",
      "[[518]\n",
      " [ 40]\n",
      " [  1]]\n",
      "[[-501.65745856]\n",
      " [-615.38461538]\n",
      " [   0.        ]]\n"
     ]
    }
   ],
   "source": [
    "### testing\n",
    "# [-500,-600,0]\n",
    "\n",
    "src=cv.imread('Frame_3-Snapshot_7.png')\n",
    "\n",
    "src_np= np.array((src))\n",
    "print(src_np.shape)\n",
    "maskRojo=seg_color(src, rojo_bajos, rojo_altos) \n",
    "print(maskRojo.shape)\n",
    "maskRojo,xRojo,yRojo=buscar_centroide(maskRojo) \n",
    "\n",
    "\n",
    "print(xRojo,yRojo)\n",
    "cv.imshow('camara',src)\n",
    "cv.imshow('Rojo', maskRojo)\n",
    "cv.waitKey(0)\n",
    "cv.destroyAllWindows()\n",
    "\n",
    "x=np.array([[xRojo],[yRojo],[1]])\n",
    "print(x)\n",
    "P_result=X_o+2000*KR_inv.dot(x)\n",
    "print(P_result)"
   ]
  },
  {
   "cell_type": "code",
   "execution_count": 74,
   "id": "computational-chocolate",
   "metadata": {
    "scrolled": false
   },
   "outputs": [
    {
     "name": "stdout",
     "output_type": "stream",
     "text": [
      "2.5641025633333356\n"
     ]
    }
   ],
   "source": [
    "p= ((615.38461538-600)/600)*100\n",
    "print(p)"
   ]
  },
  {
   "cell_type": "code",
   "execution_count": 75,
   "id": "connected-township",
   "metadata": {},
   "outputs": [
    {
     "name": "stdout",
     "output_type": "stream",
     "text": [
      "(480, 640, 3)\n",
      "(480, 640)\n",
      "333 41\n",
      "[[333]\n",
      " [ 41]\n",
      " [  1]]\n",
      "[[  60.49723757]\n",
      " [-612.30769231]\n",
      " [   0.        ]]\n"
     ]
    }
   ],
   "source": [
    "### testing\n",
    "# [60,-600,0]\n",
    "\n",
    "src=cv.imread('Frame_3-Snapshot_8.png')\n",
    "\n",
    "src_np= np.array((src))\n",
    "print(src_np.shape)\n",
    "maskRojo=seg_color(src, rojo_bajos, rojo_altos) \n",
    "print(maskRojo.shape)\n",
    "maskRojo,xRojo,yRojo=buscar_centroide(maskRojo) \n",
    "\n",
    "\n",
    "print(xRojo,yRojo)\n",
    "cv.imshow('camara',src)\n",
    "cv.imshow('Rojo', maskRojo)\n",
    "cv.waitKey(0)\n",
    "cv.destroyAllWindows()\n",
    "\n",
    "x=np.array([[xRojo],[yRojo],[1]])\n",
    "print(x)\n",
    "P_result=X_o+2000*KR_inv.dot(x)\n",
    "print(P_result)"
   ]
  },
  {
   "cell_type": "code",
   "execution_count": 76,
   "id": "french-herald",
   "metadata": {},
   "outputs": [
    {
     "name": "stdout",
     "output_type": "stream",
     "text": [
      "2.0512820516666657\n"
     ]
    }
   ],
   "source": [
    "p= ((612.30769231-600)/600)*100\n",
    "print(p)"
   ]
  },
  {
   "cell_type": "code",
   "execution_count": 77,
   "id": "tracked-virgin",
   "metadata": {},
   "outputs": [
    {
     "name": "stdout",
     "output_type": "stream",
     "text": [
      "(480, 640, 3)\n",
      "(480, 640)\n",
      "333 438\n",
      "[[333]\n",
      " [438]\n",
      " [  1]]\n",
      "[[ 60.49723757]\n",
      " [609.23076923]\n",
      " [  0.        ]]\n"
     ]
    }
   ],
   "source": [
    "### testing\n",
    "# [60,600,0]\n",
    "\n",
    "src=cv.imread('Frame_3-Snapshot_9.png')\n",
    "\n",
    "src_np= np.array((src))\n",
    "print(src_np.shape)\n",
    "maskRojo=seg_color(src, rojo_bajos, rojo_altos) \n",
    "print(maskRojo.shape)\n",
    "maskRojo,xRojo,yRojo=buscar_centroide(maskRojo) \n",
    "\n",
    "\n",
    "print(xRojo,yRojo)\n",
    "cv.imshow('camara',src)\n",
    "cv.imshow('Rojo', maskRojo)\n",
    "cv.waitKey(0)\n",
    "cv.destroyAllWindows()\n",
    "\n",
    "x=np.array([[xRojo],[yRojo],[1]])\n",
    "print(x)\n",
    "P_result=X_o+2000*KR_inv.dot(x)\n",
    "print(P_result)"
   ]
  },
  {
   "cell_type": "code",
   "execution_count": 78,
   "id": "breathing-relay",
   "metadata": {},
   "outputs": [
    {
     "name": "stdout",
     "output_type": "stream",
     "text": [
      "1.5384615383333273\n"
     ]
    }
   ],
   "source": [
    "p= ((609.23076923-600)/600)*100\n",
    "print(p)"
   ]
  },
  {
   "cell_type": "code",
   "execution_count": null,
   "id": "handy-greek",
   "metadata": {},
   "outputs": [],
   "source": []
  }
 ],
 "metadata": {
  "kernelspec": {
   "display_name": "Python 3",
   "language": "python",
   "name": "python3"
  },
  "language_info": {
   "codemirror_mode": {
    "name": "ipython",
    "version": 3
   },
   "file_extension": ".py",
   "mimetype": "text/x-python",
   "name": "python",
   "nbconvert_exporter": "python",
   "pygments_lexer": "ipython3",
   "version": "3.8.5"
  }
 },
 "nbformat": 4,
 "nbformat_minor": 5
}
