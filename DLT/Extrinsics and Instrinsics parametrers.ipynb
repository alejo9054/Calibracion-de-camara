{
 "cells": [
  {
   "cell_type": "code",
   "execution_count": 30,
   "id": "forbidden-welcome",
   "metadata": {},
   "outputs": [],
   "source": [
    "import numpy as np\n",
    "import cv2 as cv\n",
    "import glob\n",
    "\n",
    "np.set_printoptions(suppress=True) "
   ]
  },
  {
   "cell_type": "code",
   "execution_count": 31,
   "id": "suspected-emission",
   "metadata": {},
   "outputs": [],
   "source": [
    "#Extrinsic Parametrers\n",
    "#Matrices de rotacion para la camara \n",
    "Angle_x = np.deg2rad(180)\n",
    "Angle_y = np.deg2rad(0)\n",
    "Angle_z = np.deg2rad(180)\n",
    "Rx = np.array([[1,0,0],\n",
    "               [0,np.cos(Angle_x),-np.sin(Angle_x)],\n",
    "               [0,np.sin(Angle_x),np.cos(Angle_x)],\n",
    "              ])\n",
    "Ry = np.array([\n",
    "                [np.cos(Angle_y),0,np.sin(Angle_y)],\n",
    "               [0,1,0],\n",
    "               [-np.sin(Angle_y),0,np.cos(Angle_y)],\n",
    "              ])\n",
    "Rz = np.array([\n",
    "                [np.cos(Angle_z),-np.sin(Angle_z),0],\n",
    "                [np.sin(Angle_z),np.cos(Angle_z),0],\n",
    "                [0,0,1]\n",
    "            ])"
   ]
  },
  {
   "cell_type": "code",
   "execution_count": 32,
   "id": "celtic-dynamics",
   "metadata": {
    "scrolled": true
   },
   "outputs": [
    {
     "name": "stdout",
     "output_type": "stream",
     "text": [
      "[[ 1.  0.  0.]\n",
      " [ 0. -1. -0.]\n",
      " [ 0.  0. -1.]]\n",
      "[[ 1.  0.  0.]\n",
      " [ 0.  1.  0.]\n",
      " [-0.  0.  1.]]\n",
      "[[-1. -0.  0.]\n",
      " [ 0. -1.  0.]\n",
      " [ 0.  0.  1.]]\n"
     ]
    }
   ],
   "source": [
    "print(Rx)\n",
    "print(Ry)\n",
    "print(Rz)\n"
   ]
  },
  {
   "cell_type": "code",
   "execution_count": 33,
   "id": "opening-technician",
   "metadata": {},
   "outputs": [],
   "source": [
    "Rotation_matrix = Rz.dot(Ry).dot(Rx)# calculando matriz de rotacion"
   ]
  },
  {
   "cell_type": "code",
   "execution_count": 34,
   "id": "going-trade",
   "metadata": {},
   "outputs": [
    {
     "name": "stdout",
     "output_type": "stream",
     "text": [
      "[[-1.  0.  0.]\n",
      " [ 0.  1.  0.]\n",
      " [ 0.  0. -1.]]\n"
     ]
    }
   ],
   "source": [
    "print(Rotation_matrix)"
   ]
  },
  {
   "cell_type": "code",
   "execution_count": 35,
   "id": "secret-outreach",
   "metadata": {},
   "outputs": [],
   "source": [
    "# Vector de posiscion del origen de la camara \n",
    "X_o=np.array([[100],[0],[2000]])\n",
    "# vector de posicion del objeto\n",
    "X_p= np.array([[650],[200],[0]])"
   ]
  },
  {
   "cell_type": "code",
   "execution_count": 36,
   "id": "activated-european",
   "metadata": {},
   "outputs": [
    {
     "name": "stdout",
     "output_type": "stream",
     "text": [
      "X_o\n",
      "[[ 100]\n",
      " [   0]\n",
      " [2000]]\n",
      "X_p\n",
      "[[650]\n",
      " [200]\n",
      " [  0]]\n"
     ]
    }
   ],
   "source": [
    "print(\"X_o\")\n",
    "print(X_o)\n",
    "print(\"X_p\")\n",
    "print(X_p)"
   ]
  },
  {
   "cell_type": "code",
   "execution_count": 37,
   "id": "younger-night",
   "metadata": {},
   "outputs": [],
   "source": [
    "#Acomodandolo las matrices en la frorma homogenea \n",
    "#Matriz de rotacion Homogenea\n",
    "H_Rotation_Matrix=np.append(Rotation_matrix,np.zeros((1,3)),axis=0)#agregando vector de 0 en la base\n",
    "H_Rotation_Matrix=np.append(H_Rotation_Matrix,np.array([[0],[0],[0],[1]]), axis = 1)#agregando un vector al lateral"
   ]
  },
  {
   "cell_type": "code",
   "execution_count": 38,
   "id": "civic-implement",
   "metadata": {},
   "outputs": [
    {
     "name": "stdout",
     "output_type": "stream",
     "text": [
      "[[-1.  0.  0.  0.]\n",
      " [ 0.  1.  0.  0.]\n",
      " [ 0.  0. -1.  0.]\n",
      " [ 0.  0.  0.  1.]]\n"
     ]
    }
   ],
   "source": [
    "print(H_Rotation_Matrix)"
   ]
  },
  {
   "cell_type": "code",
   "execution_count": 39,
   "id": "hindu-feeding",
   "metadata": {},
   "outputs": [],
   "source": [
    "#Matriz de proyeccion del centro de camara\n",
    "Auxiliar_X_o = np.array([np.append(-X_o,np.array([1]))])\n",
    "H_X_o = np.append(np.eye(3), np.zeros((1,3)), axis=0)\n",
    "H_X_o = np.append(H_X_o, Auxiliar_X_o.T, axis=1)"
   ]
  },
  {
   "cell_type": "code",
   "execution_count": 40,
   "id": "lightweight-wesley",
   "metadata": {},
   "outputs": [
    {
     "name": "stdout",
     "output_type": "stream",
     "text": [
      "[[    1.     0.     0.  -100.]\n",
      " [    0.     1.     0.     0.]\n",
      " [    0.     0.     1. -2000.]\n",
      " [    0.     0.     0.     1.]]\n"
     ]
    }
   ],
   "source": [
    "print(H_X_o)"
   ]
  },
  {
   "cell_type": "code",
   "execution_count": 41,
   "id": "funny-caution",
   "metadata": {},
   "outputs": [
    {
     "name": "stdout",
     "output_type": "stream",
     "text": [
      "[[650 200   0   1]]\n"
     ]
    }
   ],
   "source": [
    "#Vector  X_p en forma homogenea\n",
    "H_X_p = np.array([np.append(X_p,1)])\n",
    "print(H_X_p)"
   ]
  },
  {
   "cell_type": "code",
   "execution_count": 42,
   "id": "numerous-logan",
   "metadata": {},
   "outputs": [
    {
     "name": "stdout",
     "output_type": "stream",
     "text": [
      "[[  -1.    0.    0.  100.]\n",
      " [   0.    1.    0.   -0.]\n",
      " [   0.    0.   -1. 2000.]\n",
      " [   0.    0.    0.    1.]]\n",
      "[[-550.]\n",
      " [ 200.]\n",
      " [2000.]\n",
      " [   1.]]\n"
     ]
    }
   ],
   "source": [
    "#Matriz que expresa el vector de posicion del objeto en las coordenadas de la camra\n",
    "print(H_Rotation_Matrix.dot(H_X_o))\n",
    "K_X_p = H_Rotation_Matrix.dot(H_X_o).dot(H_X_p.T)\n",
    "print(K_X_p)"
   ]
  },
  {
   "cell_type": "code",
   "execution_count": 43,
   "id": "disturbed-accommodation",
   "metadata": {},
   "outputs": [],
   "source": [
    "#Intrinsic parametrers\n",
    "# funciones para segmentar color y buscar el centroide\n",
    "def seg_color(src,bajos, altos):\n",
    "    mask = cv.inRange(src, bajos, altos)\n",
    "    return mask\n",
    "        \n",
    "def buscar_centroide(mask):\n",
    "\n",
    "    moments = cv.moments(mask)\n",
    "    area=moments['m00']\n",
    "    \n",
    "    x = int(moments['m10']/moments['m00'])\n",
    "    y = int(moments['m01']/moments['m00'])\n",
    "    \n",
    "    # put text and highlight the center\n",
    "\n",
    "    #cv.circle(mask, (x, y), 5, (0, 0, 0), -1)\n",
    "\n",
    "    #cv.putText(mask, \"centroid\", (x - 25, y - 25),cv.FONT_HERSHEY_SIMPLEX, 0.5, (0, 0, 0), 2)\n",
    "    cv.rectangle(mask,(x,y),(x+2, y+2),(0,0,0),2)#poner un punto en el centroide\n",
    "    \n",
    "    \n",
    "    return mask,x,y\n",
    "   "
   ]
  },
  {
   "cell_type": "code",
   "execution_count": 44,
   "id": "raising-technician",
   "metadata": {},
   "outputs": [],
   "source": [
    "#rangos de rojo que queremos segmentar \n",
    "rojo_bajos = np.array([0,0,80], dtype=np.uint8)\n",
    "rojo_altos = np.array([240, 122, 255], dtype=np.uint8)\n"
   ]
  },
  {
   "cell_type": "code",
   "execution_count": 45,
   "id": "tropical-hepatitis",
   "metadata": {},
   "outputs": [
    {
     "name": "stdout",
     "output_type": "stream",
     "text": [
      "(480, 640, 3)\n",
      "(480, 640)\n",
      "139 305\n"
     ]
    }
   ],
   "source": [
    "#leyendo imagen de robo dk y tomando la posicion del centroide,\n",
    "#estas coordenadas van a ser utiles para calcular la constante de la camara\n",
    "\n",
    "src=cv.imread('Frame 3-Snapshot_1.png')\n",
    "\n",
    "src_np= np.array((src))\n",
    "print(src_np.shape)\n",
    "maskRojo=seg_color(src, rojo_bajos, rojo_altos) \n",
    "print(maskRojo.shape)\n",
    "maskRojo,xRojo,yRojo=buscar_centroide(maskRojo) \n",
    "\n",
    "\n",
    "print(xRojo,yRojo)\n",
    "cv.imshow('camara',src)\n",
    "cv.imshow('Rojo', maskRojo)\n",
    "cv.waitKey(0)\n",
    "cv.destroyAllWindows()"
   ]
  },
  {
   "cell_type": "code",
   "execution_count": 46,
   "id": "specific-accident",
   "metadata": {},
   "outputs": [
    {
     "name": "stdout",
     "output_type": "stream",
     "text": [
      "320 240\n"
     ]
    }
   ],
   "source": [
    "#Moviendo el 0,0 de la imagen al centro\n",
    "y_center= int(src.shape[0]/2)\n",
    "x_center= int(src.shape[1]/2)\n",
    "print(x_center,y_center)\n",
    "img = np.zeros((480,640,3), np.uint8)\n",
    "cv.line(src,(x_center,0),(x_center,480),(255,0,0),1)\n",
    "cv.line(src,(0,y_center),(640,y_center),(255,0,0),1)\n",
    "cv.imshow('axis',src)\n",
    "cv.waitKey(0)\n",
    "cv.destroyAllWindows()"
   ]
  },
  {
   "cell_type": "code",
   "execution_count": 47,
   "id": "developed-manitoba",
   "metadata": {},
   "outputs": [
    {
     "name": "stdout",
     "output_type": "stream",
     "text": [
      "-181 65\n"
     ]
    }
   ],
   "source": [
    "#ubicando el centroide del objeto con el nuevo centro de la imagen\n",
    "#conocido tambn como cambio de base\n",
    "N_xRojo=xRojo-x_center#estos son los valores q se deben usar para la matriz de transformacion homogenia para pasar de los valores 2d a 3d\n",
    "N_yRojo=yRojo-y_center\n",
    "print(N_xRojo,N_yRojo)\n",
    "cv.rectangle(src,(xRojo,yRojo),(xRojo+2, yRojo+2),(255,0,0),2)#poner un punto en el centroide\n",
    "cv.imshow('Centroide',src)\n",
    "cv.waitKey(0)\n",
    "cv.destroyAllWindows()"
   ]
  },
  {
   "cell_type": "code",
   "execution_count": 48,
   "id": "innovative-portrait",
   "metadata": {},
   "outputs": [
    {
     "name": "stdout",
     "output_type": "stream",
     "text": [
      "[[-5.5e+02]\n",
      " [ 2.0e+02]\n",
      " [ 2.0e+03]\n",
      " [ 1.0e+00]]\n",
      "658.1818181818181\n"
     ]
    }
   ],
   "source": [
    "#Encontrando la constante de la camara\n",
    "#debido a que [x*w,y*w,w].T=[[c,0,0,0],[0,c,0,0],[0,0,1,0]].*[X,Y,Z,1].T \n",
    "#sabemos que Z==w y teniendo el punto en la imajen (N_xRojo,N_yRojo) y el vector K_X_p\n",
    "#podemos encontrar el valor de c que es la constante de la camara\n",
    "np.set_printoptions(suppress=False) \n",
    "c=float(N_xRojo*K_X_p[2]/K_X_p[0])\n",
    "print(K_X_p)\n",
    "print(c)"
   ]
  },
  {
   "cell_type": "code",
   "execution_count": 49,
   "id": "boxed-reunion",
   "metadata": {},
   "outputs": [
    {
     "name": "stdout",
     "output_type": "stream",
     "text": [
      "[[658.18181818   0.           0.           0.        ]\n",
      " [  0.         658.18181818   0.           0.        ]\n",
      " [  0.           0.           1.           0.        ]] \n",
      "\n",
      "[[-362000.        ]\n",
      " [ 131636.36363636]\n",
      " [   2000.        ]]\n",
      "[[-181.        ]\n",
      " [  65.81818182]\n",
      " [   1.        ]]\n"
     ]
    }
   ],
   "source": [
    "#comprobando\n",
    "C_x_p=(np.array([[c,0,0,0],[0,c,0,0],[0,0,1,0]]).dot(K_X_p))\n",
    "C_X_p=(np.array([[c,0,0,0],[0,c,0,0],[0,0,1,0]]))\n",
    "print(C_X_p,'\\n')\n",
    "#dividiendo por el valor Z\n",
    "\n",
    "print(C_x_p)\n",
    "print(C_x_p/K_X_p[2])"
   ]
  },
  {
   "cell_type": "code",
   "execution_count": 50,
   "id": "offensive-andorra",
   "metadata": {},
   "outputs": [
    {
     "name": "stdout",
     "output_type": "stream",
     "text": [
      "1.2430939226519337\n",
      "-1.2587412615384717\n"
     ]
    }
   ],
   "source": [
    "error= ((65-65.81818182)/65)*100\n",
    "error2= ((181-178.75)/181)*100\n",
    "print(error2)\n",
    "print(error)"
   ]
  },
  {
   "cell_type": "code",
   "execution_count": 51,
   "id": "adult-circumstances",
   "metadata": {},
   "outputs": [],
   "source": [
    "#corrigiendo error\n",
    "#para corregirlo debemos realizar la traslacion del centro de la imagen pero por medio de coordenadas homogeneas\n",
    "#ademas de agregar un parametro de diferencia de escala m que tiene la camara entre x y y"
   ]
  },
  {
   "cell_type": "code",
   "execution_count": 53,
   "id": "foreign-corpus",
   "metadata": {},
   "outputs": [
    {
     "name": "stdout",
     "output_type": "stream",
     "text": [
      "[[  1   0 320]\n",
      " [  0   1 240]\n",
      " [  0   0   1]]\n",
      "[[278000.        ]\n",
      " [611636.36363636]\n",
      " [  2000.        ]]\n",
      "[[139.        ]\n",
      " [305.81818182]\n",
      " [  1.        ]]\n"
     ]
    }
   ],
   "source": [
    "S_H_c=np.array([[1,0,x_center],[0,1,y_center],[0,0,1]]).dot(C_x_p)\n",
    "\n",
    "S_H_c1_matriz=np.array([[1,0,x_center],[0,1,y_center],[0,0,1]])\n",
    "print(S_H_c1_matriz)\n",
    "print(S_H_c)\n",
    "print(S_H_c/K_X_p[2])#estos son los valores del centrodie del objeto en la imagen con las coordenadas originales de la imagen\n"
   ]
  },
  {
   "cell_type": "code",
   "execution_count": 54,
   "id": "three-turning",
   "metadata": {},
   "outputs": [
    {
     "name": "stdout",
     "output_type": "stream",
     "text": [
      "-0.012430939226518278\n",
      "[305.]\n",
      "[2000.]\n",
      "240\n"
     ]
    }
   ],
   "source": [
    "#se agrega un parametro m en la matriz anterior para ajustar la diferencia de escarla entre x e y\n",
    "#tambien se agrega un parametro s que se conoce como \"sheer\" pero como estamos usando una camara digital este valor se asume como 0\n",
    "#la matriz queda de la siguiente manera\n",
    "#S_H_c_modificada=np.array([[1,s,x_center],[0,1+m,y_center],[0,0,1]])\n",
    "#calculando m\n",
    "s=0\n",
    "m=float((((305*C_x_p[2])-(y_center*C_x_p[2]))/C_x_p[1])-1)\n",
    "U=((0+(1+m)*C_x_p[1]+y_center*C_x_p[2]))/C_x_p[2]\n",
    "\n",
    "print(m)\n",
    "print(U)\n",
    "print(C_x_p[2])\n",
    "print(y_center)"
   ]
  },
  {
   "cell_type": "code",
   "execution_count": 55,
   "id": "incorrect-limit",
   "metadata": {},
   "outputs": [
    {
     "name": "stdout",
     "output_type": "stream",
     "text": [
      "[[  1.           0.         320.        ]\n",
      " [  0.           0.98756906 240.        ]\n",
      " [  0.           0.           1.        ]]\n"
     ]
    }
   ],
   "source": [
    "S_H_c2_matriz=np.array([[1,s,x_center],[0,1+m,y_center],[0,0,1]])#agregando el parametro m \n",
    "\n",
    "print(S_H_c2_matriz)"
   ]
  },
  {
   "cell_type": "code",
   "execution_count": 56,
   "id": "wrapped-tattoo",
   "metadata": {},
   "outputs": [
    {
     "name": "stdout",
     "output_type": "stream",
     "text": [
      "[[658.18181818   0.         320.           0.        ]\n",
      " [  0.         650.         240.           0.        ]\n",
      " [  0.           0.           1.           0.        ]]\n"
     ]
    }
   ],
   "source": [
    "#Calculando matriz de calibracion, esta matriz es una transformacion afín para corregir errores\n",
    "K=S_H_c2_matriz.dot(C_X_p)#.dot(K_X_p)\n",
    "print(K)"
   ]
  },
  {
   "cell_type": "code",
   "execution_count": 57,
   "id": "responsible-skill",
   "metadata": {},
   "outputs": [
    {
     "name": "stdout",
     "output_type": "stream",
     "text": [
      "[[  1.           0.         320.        ]\n",
      " [  0.           0.98756906 240.        ]\n",
      " [  0.           0.           1.        ]]\n",
      "[[278000.]\n",
      " [610000.]\n",
      " [  2000.]] \n",
      "\n",
      "[[139.]\n",
      " [305.]\n",
      " [  1.]]\n"
     ]
    }
   ],
   "source": [
    "#comprobando\n",
    "S_H_c_modificado=np.array([[1,s,x_center],[0,1+m,y_center],[0,0,1]]).dot(C_x_p)\n",
    "print(np.array([[1,s,x_center],[0,1+m,y_center],[0,0,1]]))\n",
    "print(S_H_c_modificado,'\\n')\n",
    "print(S_H_c_modificado/S_H_c_modificado[2])#listo el algoritmo DLT"
   ]
  },
  {
   "cell_type": "code",
   "execution_count": 58,
   "id": "ruled-blind",
   "metadata": {},
   "outputs": [
    {
     "name": "stdout",
     "output_type": "stream",
     "text": [
      "[[  -658.18181818      0.           -320.         705818.18181818]\n",
      " [     0.            650.           -240.         480000.        ]\n",
      " [     0.              0.             -1.           2000.        ]]\n",
      "[[278000.]\n",
      " [610000.]\n",
      " [  2000.]]\n",
      "[[139.]\n",
      " [305.]\n",
      " [  1.]]\n"
     ]
    }
   ],
   "source": [
    "#Direct linear transform, justamos todas las matrices calculadas a travez de los parametros\n",
    "##Extrinsecas\n",
    "#Matriz de posicion de la proyeccion de la camara, H_X_o\n",
    "#Matriz de rotacion de la proyeccion de la camara, H_Rotation_Matrix\n",
    "##intrinsecas\n",
    "#Matriz de proyeccion de perspectiva ideal, C_X_p\n",
    "#Matriz de calibracion, S_H_c1_matriz-> S_H_c2_matriz*C_X_p-> K\n",
    "np.set_printoptions(suppress=True) \n",
    "P=K.dot(H_Rotation_Matrix).dot(H_X_o)\n",
    "print(P)\n",
    "#comprobando\n",
    "print(P.dot(H_X_p.T))\n",
    "\n",
    "print(P.dot(H_X_p.T)/2000)"
   ]
  },
  {
   "cell_type": "code",
   "execution_count": 80,
   "id": "pressing-sewing",
   "metadata": {},
   "outputs": [
    {
     "name": "stdout",
     "output_type": "stream",
     "text": [
      "[[-658.18181818    0.         -320.            0.        ]\n",
      " [   0.          650.         -240.            0.        ]\n",
      " [   0.            0.           -1.            0.        ]]\n",
      "[[-0.00151934  0.          0.48618785]\n",
      " [ 0.          0.00153846 -0.36923077]\n",
      " [ 0.          0.         -1.        ]]\n",
      "[[139]\n",
      " [305]\n",
      " [  1]]\n",
      "[[650.]\n",
      " [200.]\n",
      " [  0.]]\n"
     ]
    }
   ],
   "source": [
    "KR=K.dot(H_Rotation_Matrix)\n",
    "KR_inv = np.linalg.inv(KR[:3,:3])\n",
    "#KR_inv = np.append(KR_inv, np.zeros((3,1)), axis = 1)\n",
    "x= np.array([[139],[305],[1]])\n",
    "print(KR)\n",
    "print(KR_inv)\n",
    "print(x)\n",
    "p_inv= X_o+2000*KR_inv.dot(x)\n",
    "print(p_inv)"
   ]
  },
  {
   "cell_type": "code",
   "execution_count": null,
   "id": "alpine-mercy",
   "metadata": {},
   "outputs": [],
   "source": []
  },
  {
   "cell_type": "code",
   "execution_count": null,
   "id": "plastic-palmer",
   "metadata": {},
   "outputs": [],
   "source": []
  }
 ],
 "metadata": {
  "kernelspec": {
   "display_name": "Python 3",
   "language": "python",
   "name": "python3"
  },
  "language_info": {
   "codemirror_mode": {
    "name": "ipython",
    "version": 3
   },
   "file_extension": ".py",
   "mimetype": "text/x-python",
   "name": "python",
   "nbconvert_exporter": "python",
   "pygments_lexer": "ipython3",
   "version": "3.8.5"
  }
 },
 "nbformat": 4,
 "nbformat_minor": 5
}
